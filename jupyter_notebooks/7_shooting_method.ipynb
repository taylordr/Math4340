{
 "cells": [
  {
   "cell_type": "markdown",
   "metadata": {},
   "source": [
    "# MATH 4340 / COSC 4340: Numerical Methods for Differential Equations\n",
    "# Notebook 7: Shooting Method for BVPs\n",
    "\n",
    "### Professor: Dane Taylor\n",
    "### Date: Spring 2024\n"
   ]
  },
  {
   "cell_type": "code",
   "execution_count": 21,
   "metadata": {},
   "outputs": [
    {
     "name": "stdout",
     "output_type": "stream",
     "text": [
      "%pylab is deprecated, use %matplotlib inline and import the required libraries.\n",
      "Populating the interactive namespace from numpy and matplotlib\n"
     ]
    }
   ],
   "source": [
    "%pylab inline"
   ]
  },
  {
   "cell_type": "code",
   "execution_count": null,
   "metadata": {},
   "outputs": [],
   "source": []
  },
  {
   "cell_type": "markdown",
   "metadata": {},
   "source": [
    "## 1. Shooting Method Example 1\n"
   ]
  },
  {
   "cell_type": "code",
   "execution_count": 22,
   "metadata": {},
   "outputs": [],
   "source": [
    "def forward_Euler(ti,F,y0): \n",
    "    \n",
    "    h = ti[1]-ti[0]\n",
    "    N = len(ti)-1\n",
    "    \n",
    "    f1 = F[0]\n",
    "    f2 = F[1]\n",
    "    \n",
    "    yi = zeros((len(ti),2))\n",
    "    yi[0] = y0\n",
    "    for i in range(N):\n",
    "        yi[i+1] = yi[i,0] + h*f1(ti[i],yi[i]), yi[i,1] + h*f2(ti[i],yi[i])\n",
    "    return yi"
   ]
  },
  {
   "cell_type": "code",
   "execution_count": 23,
   "metadata": {},
   "outputs": [],
   "source": [
    "def f1(t,y_vec):  return y_vec[1]\n",
    "def f2(t,y_vec):  return (2+4*t**2) *y_vec[0]\n",
    "F = [f1,f2]"
   ]
  },
  {
   "cell_type": "code",
   "execution_count": 24,
   "metadata": {},
   "outputs": [
    {
     "data": {
      "text/plain": [
       "[<matplotlib.lines.Line2D at 0x12240ecd0>]"
      ]
     },
     "execution_count": 24,
     "metadata": {},
     "output_type": "execute_result"
    },
    {
     "data": {
      "image/png": "[encoded data removed]",
      "text/plain": [
       "<Figure size 640x480 with 1 Axes>"
      ]
     },
     "metadata": {},
     "output_type": "display_data"
    }
   ],
   "source": [
    "t0 = 0\n",
    "T = 1\n",
    "N = 1000000\n",
    "h = (T-t0)/N\n",
    "ti = linspace(t0,T,N+1)\n",
    "\n",
    "s = .045\n",
    "y0 = 1,s\n",
    "yi = forward_Euler(ti,F,y0)\n",
    "plot(ti,yi);\n",
    "plot(ti,ones(N+1)*exp(1),':')"
   ]
  },
  {
   "cell_type": "code",
   "execution_count": 25,
   "metadata": {},
   "outputs": [
    {
     "data": {
      "text/plain": [
       "array([2.79144264, 5.59943743])"
      ]
     },
     "execution_count": 25,
     "metadata": {},
     "output_type": "execute_result"
    }
   ],
   "source": [
    "yi[-1]"
   ]
  },
  {
   "cell_type": "code",
   "execution_count": 26,
   "metadata": {},
   "outputs": [
    {
     "data": {
      "text/plain": [
       "2.718281828459045"
      ]
     },
     "execution_count": 26,
     "metadata": {},
     "output_type": "execute_result"
    }
   ],
   "source": [
    "exp(1)"
   ]
  },
  {
   "cell_type": "code",
   "execution_count": 27,
   "metadata": {},
   "outputs": [
    {
     "data": {
      "text/plain": [
       "-0.0731608142454303"
      ]
     },
     "execution_count": 27,
     "metadata": {},
     "output_type": "execute_result"
    }
   ],
   "source": [
    "G = exp(1) - yi[-1][0]\n",
    "G"
   ]
  },
  {
   "cell_type": "code",
   "execution_count": null,
   "metadata": {},
   "outputs": [],
   "source": []
  },
  {
   "cell_type": "code",
   "execution_count": 28,
   "metadata": {},
   "outputs": [
    {
     "data": {
      "text/plain": [
       "1.6259264463345149"
      ]
     },
     "execution_count": 28,
     "metadata": {},
     "output_type": "execute_result"
    }
   ],
   "source": [
    "s = -1\n",
    "y0 = 1,s\n",
    "yi = forward_Euler(ti,F,y0)\n",
    "G = exp(1) - yi[-1][0]\n",
    "G"
   ]
  },
  {
   "cell_type": "code",
   "execution_count": 29,
   "metadata": {},
   "outputs": [
    {
     "data": {
      "text/plain": [
       "-3.2518360242304083"
      ]
     },
     "execution_count": 29,
     "metadata": {},
     "output_type": "execute_result"
    }
   ],
   "source": [
    "s = 2\n",
    "y0 = 1,s\n",
    "yi = forward_Euler(ti,F,y0)\n",
    "G = exp(1) - yi[-1][0]\n",
    "G"
   ]
  },
  {
   "cell_type": "code",
   "execution_count": 30,
   "metadata": {},
   "outputs": [
    {
     "data": {
      "text/plain": [
       "5.622813060934817e-06"
      ]
     },
     "execution_count": 30,
     "metadata": {},
     "output_type": "execute_result"
    }
   ],
   "source": [
    "s = 0\n",
    "y0 = 1,s\n",
    "yi = forward_Euler(ti,F,y0)\n",
    "G = exp(1) - yi[-1][0]\n",
    "G"
   ]
  },
  {
   "cell_type": "code",
   "execution_count": 31,
   "metadata": {},
   "outputs": [
    {
     "data": {
      "text/plain": [
       "0.005608325924097102"
      ]
     },
     "execution_count": 31,
     "metadata": {},
     "output_type": "execute_result"
    }
   ],
   "source": [
    "t0 = 0\n",
    "T = 1\n",
    "N = 1000\n",
    "#N = 10000000\n",
    "h = (T-t0)/N\n",
    "ti = linspace(t0,T,N+1)\n",
    "yi = forward_Euler(ti,F,y0)\n",
    "G = exp(1) - yi[-1][0]\n",
    "G"
   ]
  },
  {
   "cell_type": "markdown",
   "metadata": {},
   "source": [
    "### The error  $G(S)$ at the boundary will always be as bad as the global error $E_N$ for the IVP solver\n",
    "* above, we used the true value   $s^*=0$ and there was considerable error since the IVP solver was poor."
   ]
  },
  {
   "cell_type": "code",
   "execution_count": null,
   "metadata": {},
   "outputs": [],
   "source": []
  },
  {
   "cell_type": "code",
   "execution_count": null,
   "metadata": {},
   "outputs": [],
   "source": []
  },
  {
   "cell_type": "markdown",
   "metadata": {},
   "source": [
    "## 2. Implementing the root-finding algorithm\n",
    "* We must build a function G(s)\n"
   ]
  },
  {
   "cell_type": "code",
   "execution_count": 32,
   "metadata": {},
   "outputs": [],
   "source": [
    "def G(s):\n",
    "    t0 = 0\n",
    "    T = 1\n",
    "    N = 100000\n",
    "    h = (T-t0)/N\n",
    "    ti = linspace(t0,T,N+1)\n",
    "    y0 = 1,s\n",
    "    yi = forward_Euler(ti,F,y0)\n",
    "    return exp(1) - yi[-1][0]     "
   ]
  },
  {
   "cell_type": "code",
   "execution_count": 33,
   "metadata": {},
   "outputs": [
    {
     "name": "stdout",
     "output_type": "stream",
     "text": [
      "1.625948605822019 -3.25172853117883 5.6226821834926e-05\n"
     ]
    }
   ],
   "source": [
    "print(G(-1),G(2),G(0))"
   ]
  },
  {
   "cell_type": "code",
   "execution_count": null,
   "metadata": {},
   "outputs": [],
   "source": []
  },
  {
   "cell_type": "code",
   "execution_count": 34,
   "metadata": {},
   "outputs": [],
   "source": [
    "def bisection(f,a,b,tol=10**-14):\n",
    "    if sign(f(a))==0: return a\n",
    "    if sign(f(b))==0: return b\n",
    "    if sign(f(a))==sign(f(b)):\n",
    "        print('bad starting points')\n",
    "        return \n",
    "    while abs(a-b) > tol:\n",
    "        print(a,b)\n",
    "        c = (a+b)/2\n",
    "        if sign(f(c))==0: return c\n",
    "        if sign(f(c)) == sign(f(a)):\n",
    "            a = c\n",
    "        else:\n",
    "            b = c \n",
    "        \n",
    "    return (a+b)/2"
   ]
  },
  {
   "cell_type": "code",
   "execution_count": 35,
   "metadata": {},
   "outputs": [
    {
     "name": "stdout",
     "output_type": "stream",
     "text": [
      "-1 2\n",
      "-1 0.5\n",
      "-0.25 0.5\n",
      "-0.25 0.125\n",
      "-0.0625 0.125\n",
      "-0.0625 0.03125\n",
      "-0.015625 0.03125\n",
      "-0.015625 0.0078125\n",
      "-0.00390625 0.0078125\n",
      "-0.00390625 0.001953125\n",
      "-0.0009765625 0.001953125\n",
      "-0.0009765625 0.00048828125\n",
      "-0.000244140625 0.00048828125\n",
      "-0.000244140625 0.0001220703125\n",
      "-6.103515625e-05 0.0001220703125\n",
      "3.0517578125e-05 0.0001220703125\n",
      "3.0517578125e-05 7.62939453125e-05\n",
      "3.0517578125e-05 5.340576171875e-05\n",
      "3.0517578125e-05 4.1961669921875e-05\n",
      "3.0517578125e-05 3.62396240234375e-05\n",
      "3.337860107421875e-05 3.62396240234375e-05\n",
      "3.337860107421875e-05 3.4809112548828125e-05\n",
      "3.409385681152344e-05 3.4809112548828125e-05\n",
      "3.445148468017578e-05 3.4809112548828125e-05\n",
      "3.445148468017578e-05 3.463029861450195e-05\n",
      "3.454089164733887e-05 3.463029861450195e-05\n",
      "3.454089164733887e-05 3.458559513092041e-05\n",
      "3.456324338912964e-05 3.458559513092041e-05\n",
      "3.4574419260025024e-05 3.458559513092041e-05\n",
      "3.458000719547272e-05 3.458559513092041e-05\n",
      "3.458000719547272e-05 3.4582801163196564e-05\n",
      "3.458140417933464e-05 3.4582801163196564e-05\n",
      "3.45821026712656e-05 3.4582801163196564e-05\n",
      "3.45821026712656e-05 3.458245191723108e-05\n",
      "3.45821026712656e-05 3.458227729424834e-05\n",
      "3.45821026712656e-05 3.458218998275697e-05\n",
      "3.45821026712656e-05 3.458214632701129e-05\n",
      "3.4582124499138445e-05 3.458214632701129e-05\n",
      "3.4582124499138445e-05 3.4582135413074866e-05\n",
      "3.4582129956106655e-05 3.4582135413074866e-05\n",
      "3.4582129956106655e-05 3.458213268459076e-05\n",
      "3.4582129956106655e-05 3.458213132034871e-05\n",
      "3.4582129956106655e-05 3.458213063822768e-05\n",
      "3.4582129956106655e-05 3.458213029716717e-05\n",
      "3.4582129956106655e-05 3.458213012663691e-05\n",
      "3.4582130041371784e-05 3.458213012663691e-05\n",
      "3.4582130041371784e-05 3.458213008400435e-05\n",
      "3.4582130041371784e-05 3.4582130062688066e-05\n",
      "3.4582130041371784e-05 3.4582130052029925e-05\n"
     ]
    },
    {
     "data": {
      "text/plain": [
       "3.458213004936539e-05"
      ]
     },
     "execution_count": 35,
     "metadata": {},
     "output_type": "execute_result"
    }
   ],
   "source": [
    "lower,upper = -1,2\n",
    "bisection(G,lower,upper)"
   ]
  },
  {
   "cell_type": "code",
   "execution_count": null,
   "metadata": {},
   "outputs": [],
   "source": []
  },
  {
   "cell_type": "markdown",
   "metadata": {},
   "source": [
    "## 3. BVP System Example"
   ]
  },
  {
   "cell_type": "code",
   "execution_count": 43,
   "metadata": {},
   "outputs": [],
   "source": [
    "def f1(t,y_vec):  return y_vec[0] - 3 *y_vec[0]*y_vec[1]\n",
    "def f2(t,y_vec):  return -6*(t*y_vec[1] + log(y_vec[0]))\n",
    "F = [f1,f2]\n",
    "\n",
    "def G(s):\n",
    "    t0 = 0\n",
    "    T = 1\n",
    "    N = 100000\n",
    "    h = (T-t0)/N\n",
    "    ti = linspace(t0,T,N+1)\n",
    "    y0 = 1,s\n",
    "    yi = forward_Euler(ti,F,y0)\n",
    "    return -2/3 - yi[-1][1]     "
   ]
  },
  {
   "cell_type": "code",
   "execution_count": 44,
   "metadata": {},
   "outputs": [
    {
     "name": "stdout",
     "output_type": "stream",
     "text": [
      "-2 2\n",
      "0.0 2\n",
      "0.0 1.0\n",
      "0.0 0.5\n",
      "0.25 0.5\n",
      "0.25 0.375\n",
      "0.3125 0.375\n",
      "0.3125 0.34375\n",
      "0.328125 0.34375\n",
      "0.328125 0.3359375\n",
      "0.33203125 0.3359375\n",
      "0.33203125 0.333984375\n",
      "0.3330078125 0.333984375\n",
      "0.3330078125 0.33349609375\n",
      "0.333251953125 0.33349609375\n",
      "0.333251953125 0.3333740234375\n",
      "0.33331298828125 0.3333740234375\n",
      "0.33331298828125 0.333343505859375\n",
      "0.33331298828125 0.3333282470703125\n",
      "0.33332061767578125 0.3333282470703125\n",
      "0.3333244323730469 0.3333282470703125\n",
      "0.3333263397216797 0.3333282470703125\n",
      "0.3333263397216797 0.3333272933959961\n",
      "0.3333263397216797 0.3333268165588379\n",
      "0.3333263397216797 0.3333265781402588\n",
      "0.33332645893096924 0.3333265781402588\n",
      "0.33332645893096924 0.333326518535614\n",
      "0.3333264887332916 0.333326518535614\n",
      "0.3333264887332916 0.3333265036344528\n",
      "0.3333264887332916 0.3333264961838722\n",
      "0.3333264924585819 0.3333264961838722\n",
      "0.3333264943212271 0.3333264961838722\n",
      "0.3333264943212271 0.33332649525254965\n",
      "0.3333264943212271 0.33332649478688836\n",
      "0.3333264945540577 0.33332649478688836\n",
      "0.33332649467047304 0.33332649478688836\n",
      "0.3333264947286807 0.33332649478688836\n",
      "0.33332649475778453 0.33332649478688836\n",
      "0.33332649475778453 0.33332649477233645\n",
      "0.3333264947650605 0.33332649477233645\n",
      "0.3333264947650605 0.33332649476869847\n",
      "0.3333264947650605 0.3333264947668795\n",
      "0.33332649476597 0.3333264947668795\n",
      "0.33332649476642473 0.3333264947668795\n",
      "0.33332649476642473 0.3333264947666521\n",
      "0.3333264947665384 0.3333264947666521\n",
      "0.33332649476659526 0.3333264947666521\n",
      "0.3333264947666237 0.3333264947666521\n",
      "0.3333264947666379 0.3333264947666521\n"
     ]
    },
    {
     "data": {
      "text/plain": [
       "0.33332649476664145"
      ]
     },
     "execution_count": 44,
     "metadata": {},
     "output_type": "execute_result"
    }
   ],
   "source": [
    "lower,upper = -2,2\n",
    "s_star = bisection(G,lower,upper)\n",
    "s_star"
   ]
  },
  {
   "cell_type": "code",
   "execution_count": 45,
   "metadata": {},
   "outputs": [
    {
     "data": {
      "text/plain": [
       "-2.4313884239290928e-14"
      ]
     },
     "execution_count": 45,
     "metadata": {},
     "output_type": "execute_result"
    }
   ],
   "source": [
    "G(s_star)"
   ]
  },
  {
   "cell_type": "markdown",
   "metadata": {},
   "source": [
    "* We can also use the built-in root-finding from scipy"
   ]
  },
  {
   "cell_type": "code",
   "execution_count": 47,
   "metadata": {},
   "outputs": [],
   "source": [
    "from scipy.optimize import fixed_point as fp"
   ]
  },
  {
   "cell_type": "code",
   "execution_count": 56,
   "metadata": {},
   "outputs": [
    {
     "data": {
      "text/plain": [
       "array(0.33332649)"
      ]
     },
     "execution_count": 56,
     "metadata": {},
     "output_type": "execute_result"
    }
   ],
   "source": [
    "g = lambda s: s-G(s)\n",
    "\n",
    "s_star2 = fp(g,0.5,xtol=1e-15)\n",
    "s_star2"
   ]
  },
  {
   "cell_type": "code",
   "execution_count": 57,
   "metadata": {},
   "outputs": [
    {
     "data": {
      "text/plain": [
       "-2.4313884239290928e-14"
      ]
     },
     "execution_count": 57,
     "metadata": {},
     "output_type": "execute_result"
    }
   ],
   "source": [
    "G(s_star)"
   ]
  },
  {
   "cell_type": "code",
   "execution_count": null,
   "metadata": {},
   "outputs": [],
   "source": []
  },
  {
   "cell_type": "code",
   "execution_count": 42,
   "metadata": {},
   "outputs": [
    {
     "data": {
      "image/png": "[encoded data removed]",
      "text/plain": [
       "<Figure size 640x480 with 1 Axes>"
      ]
     },
     "metadata": {},
     "output_type": "display_data"
    }
   ],
   "source": [
    " t0 = 0\n",
    "T = 1\n",
    "N = 100000\n",
    "h = (T-t0)/N\n",
    "ti = linspace(t0,T,N+1)\n",
    "y0 = 1,s_star\n",
    "yi = forward_Euler(ti,F,y0)\n",
    "plot(ti,yi);\n",
    "plot(ti,ones(len(ti)),'k:');\n",
    "plot(ti,ones(len(ti))*-2/3,'k:');"
   ]
  },
  {
   "cell_type": "code",
   "execution_count": 40,
   "metadata": {},
   "outputs": [
    {
     "name": "stdout",
     "output_type": "stream",
     "text": [
      "1.0 -0.6666666666666423\n"
     ]
    }
   ],
   "source": [
    "print(yi[0][0],yi[-1][1])"
   ]
  },
  {
   "cell_type": "code",
   "execution_count": null,
   "metadata": {},
   "outputs": [],
   "source": []
  }
 ],
 "metadata": {
  "kernelspec": {
   "display_name": "Python 3 (ipykernel)",
   "language": "python",
   "name": "python3"
  },
  "language_info": {
   "codemirror_mode": {
    "name": "ipython",
    "version": 3
   },
   "file_extension": ".py",
   "mimetype": "text/x-python",
   "name": "python",
   "nbconvert_exporter": "python",
   "pygments_lexer": "ipython3",
   "version": "3.11.5"
  },
  "latex_envs": {
   "LaTeX_envs_menu_present": true,
   "autocomplete": true,
   "bibliofile": "biblio.bib",
   "cite_by": "apalike",
   "current_citInitial": 1,
   "eqLabelWithNumbers": true,
   "eqNumInitial": 1,
   "hotkeys": {
    "equation": "Ctrl-E",
    "itemize": "Ctrl-I"
   },
   "labels_anchors": false,
   "latex_user_defs": false,
   "report_style_numbering": false,
   "user_envs_cfg": false
  }
 },
 "nbformat": 4,
 "nbformat_minor": 2
}
